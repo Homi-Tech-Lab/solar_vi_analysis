{
 "cells": [
  {
   "cell_type": "code",
   "execution_count": 10,
   "metadata": {},
   "outputs": [],
   "source": [
    "import numpy as np\n",
    "import pandas as pd\n",
    "from sklearn.preprocessing import LabelEncoder\n",
    "from keras.utils import to_categorical\n",
    "from sklearn.model_selection import train_test_split\n",
    "from sklearn.preprocessing import StandardScaler\n",
    "from keras.models import load_model\n",
    "\n",
    "dataset = pd.read_csv('Solar_categorical.csv')\n",
    "X = dataset.iloc[:3000, 0:7].values\n",
    "y = dataset.iloc[:3000, 7].values\n",
    "encoder= LabelEncoder()\n",
    "X[:,6] = encoder.fit_transform(X[:, 6])\n",
    "y = encoder.fit_transform(y)\n",
    "y = to_categorical(y)\n",
    "X_train, X_test, y_train, y_test = train_test_split(X, y, test_size = 0.2, random_state=0)\n",
    "sc = StandardScaler()\n",
    "X_train = sc.fit_transform(X_train)\n",
    "X_test = sc.transform(X_test)\n",
    "\n",
    "new_model = load_model('fault_model.model')"
   ]
  },
  {
   "cell_type": "code",
   "execution_count": 12,
   "metadata": {},
   "outputs": [
    {
     "name": "stdout",
     "output_type": "stream",
     "text": [
      "1/1 [==============================] - 0s 142ms/step\n"
     ]
    },
    {
     "data": {
      "text/plain": [
       "array(['Normal'], dtype=object)"
      ]
     },
     "execution_count": 12,
     "metadata": {},
     "output_type": "execute_result"
    }
   ],
   "source": [
    "import numpy as np\n",
    "import pandas as pd\n",
    "from sklearn.preprocessing import LabelEncoder\n",
    "from keras.utils import to_categorical\n",
    "from sklearn.model_selection import train_test_split\n",
    "from sklearn.preprocessing import StandardScaler\n",
    "from keras.models import load_model\n",
    "\n",
    "dataset = pd.read_csv('Solar_categorical.csv')\n",
    "X = dataset.iloc[:3000, 0:7].values\n",
    "y = dataset.iloc[:3000, 7].values\n",
    "encoder= LabelEncoder()\n",
    "X[:,6] = encoder.fit_transform(X[:, 6])\n",
    "y = encoder.fit_transform(y)\n",
    "y = to_categorical(y)\n",
    "X_train, X_test, y_train, y_test = train_test_split(X, y, test_size = 0.2, random_state=0)\n",
    "sc = StandardScaler()\n",
    "X_train = sc.fit_transform(X_train)\n",
    "X_test = sc.transform(X_test)\n",
    "\n",
    "new_model = load_model('fault_model.model')\n",
    "\n",
    "new_mod_test = new_model.predict(sc.transform(np.array([[2.3, 6.5, 108, 109,100, 15, 0]])))  \n",
    "new_mod_test_original = encoder.inverse_transform([np.argmax(new_mod_test)])\n",
    "new_mod_test_original"
   ]
  },
  {
   "cell_type": "code",
   "execution_count": 11,
   "metadata": {},
   "outputs": [
    {
     "name": "stdout",
     "output_type": "stream",
     "text": [
      "1/1 [==============================] - 0s 358ms/step\n"
     ]
    },
    {
     "data": {
      "text/plain": [
       "array(['Normal'], dtype=object)"
      ]
     },
     "execution_count": 11,
     "metadata": {},
     "output_type": "execute_result"
    }
   ],
   "source": [
    "new_mod_test = new_model.predict(sc.transform(np.array([[2.3, 6.5, 108, 109,100, 15, 0]])))  \n",
    "new_mod_test_original = encoder.inverse_transform([np.argmax(new_mod_test)])\n",
    "new_mod_test_original"
   ]
  },
  {
   "cell_type": "code",
   "execution_count": 2,
   "metadata": {},
   "outputs": [],
   "source": [
    "from tkinter import *\n",
    "\n",
    "root = Tk()\n",
    "root.title(\"Fault Detection Model\")\n",
    "root.geometry(\"320x510+0+0\")\n",
    "root.wm_iconbitmap('icon.ico')\n",
    "\n",
    "def infoMsg():\n",
    "        messagebox.askokcancel(title=\"Help\", message=\"This application was developed by Barun Basnet using tkinter.\")\n",
    "\n",
    "my_menu = Menu(root)\n",
    "\n",
    "file_menu = Menu(my_menu, tearoff=0)\n",
    "file_menu.add_command(label=\"Exit\", command=root.destroy)\n",
    "my_menu.add_cascade(label=\"File\", menu=file_menu)\n",
    "\n",
    "info_menu = Menu(my_menu, tearoff=0)\n",
    "info_menu.add_command(label=\"Info\", command=infoMsg)\n",
    "my_menu.add_cascade(label=\"About\", menu=info_menu)\n",
    "\n",
    "root.config(menu=my_menu)\n",
    "\n",
    "\n",
    "heading = Label(root, text=\"1.8KW Grid-type PV System\", font=(\"arial\", 10,\"bold\"), fg=\"black\").pack()\n",
    "\n",
    "label1 = Label(root, text=\"Sensor1 (Amps):\", font=(\"arial\", 10,\"bold\"), fg=\"green\").place(x =10, y=40)\n",
    "name1 = DoubleVar()\n",
    "entry_box1 = Entry(root, textvariable=name1).place(x=160, y=40)\n",
    "\n",
    "label2 = Label(root, text=\"Sensor2 (Amps):\", font=(\"arial\", 10,\"bold\"), fg=\"green\").place(x =10, y=80)\n",
    "name2 = DoubleVar()\n",
    "entry_box2 = Entry(root, textvariable=name2).place(x=160, y=80)\n",
    "\n",
    "label3 = Label(root, text=\"Sensor3 (Volts):\", font=(\"arial\", 10,\"bold\"), fg=\"green\").place(x =10, y=120)\n",
    "name3 = DoubleVar()\n",
    "entry_box3 = Entry(root, textvariable=name3).place(x=160, y=120)\n",
    "\n",
    "label4 = Label(root, text=\"Sensor4 (Volts):\", font=(\"arial\", 10,\"bold\"), fg=\"green\").place(x =10, y=160)\n",
    "name4 = DoubleVar()\n",
    "entry_box4 = Entry(root, textvariable=name4).place(x=160, y=160)\n",
    "\n",
    "label5 = Label(root, text=\"Irradiance (Klux):\", font=(\"arial\", 10,\"bold\"), fg=\"green\").place(x =10, y=200)\n",
    "name5 = DoubleVar()\n",
    "entry_box5 = Entry(root, textvariable=name5).place(x=160, y=200)\n",
    "\n",
    "label6 = Label(root, text=\"Temperature (degC):\", font=(\"arial\", 10,\"bold\"), fg=\"green\").place(x =10, y=240)\n",
    "name6 = DoubleVar()\n",
    "entry_box6 = Entry(root, textvariable=name6).place(x=160, y=240)\n",
    "\n",
    "label7 = Label(root, text=\"Sunny (yes:'0' no:'1'):\", font=(\"arial\", 10,\"bold\"), fg=\"green\").place(x =10, y=280)\n",
    "name7 = IntVar()\n",
    "entry_box6 = Entry(root, textvariable=name7).place(x=160, y=280)\n",
    "\n",
    "def fault_diagnosis():\n",
    "    ResultBox.delete(0.0, 'end')\n",
    "    new_mod_test = new_model.predict(sc.transform(np.array([[name1.get(), name2.get(), name3.get(), \n",
    "                                                             name4.get(), name5.get(), name6.get(), name7.get()]])))  \n",
    "    new_mod_test_original = encoder.inverse_transform([np.argmax(new_mod_test)])\n",
    "    ResultBox.insert(INSERT, new_mod_test_original)\n",
    "\n",
    "work = Button(root, text=\"Diagnose\", width=20, height=2, bg=\"lightblue\", command=fault_diagnosis).place(x=60, y=340)\n",
    "\n",
    "ResultBox = Text(root, width=35, height=5)\n",
    "ResultBox.place(x=10, y=390)\n",
    "\n",
    "\n",
    "root.mainloop()"
   ]
  },
  {
   "cell_type": "markdown",
   "metadata": {},
   "source": []
  }
 ],
 "metadata": {
  "kernelspec": {
   "display_name": ".venv",
   "language": "python",
   "name": "python3"
  },
  "language_info": {
   "codemirror_mode": {
    "name": "ipython",
    "version": 3
   },
   "file_extension": ".py",
   "mimetype": "text/x-python",
   "name": "python",
   "nbconvert_exporter": "python",
   "pygments_lexer": "ipython3",
   "version": "3.9.13"
  }
 },
 "nbformat": 4,
 "nbformat_minor": 2
}
